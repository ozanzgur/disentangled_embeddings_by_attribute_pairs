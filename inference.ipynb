{
 "cells": [
  {
   "attachments": {},
   "cell_type": "markdown",
   "metadata": {},
   "source": [
    "### View Attention Maps\n",
    "Generate similarity based attention maps from a trained model"
   ]
  },
  {
   "cell_type": "code",
   "execution_count": null,
   "metadata": {},
   "outputs": [],
   "source": [
    "# %%\n",
    "# Create dataset\n",
    "import pandas as pd\n",
    "from tqdm import tqdm\n",
    "import torch\n",
    "from torch.utils.data import DataLoader\n",
    "import pytorch_lightning as pl\n",
    "from collections import defaultdict\n",
    "\n",
    "from tools.dataset import AttributePairsDataset\n",
    "from tools.preprocessing import get_transform\n",
    "from tools.model import AttEmbeddingModel\n",
    "\n",
    "batch_size = 10\n",
    "img_dir = \"data/category\"\n",
    "\n",
    "def collate_fn(batch):\n",
    "    ims, cls_idx = list(zip(*batch))\n",
    "    im1, im2 = list(zip(*ims))\n",
    "    im1 = torch.stack(im1)\n",
    "    im2 = torch.stack(im2)\n",
    "    return (im1, im2), cls_idx\n",
    "\n",
    "ds = AttributePairsDataset(\n",
    "        annot_path=\"data/category/Anno_coarse/list_attr_img.txt\",\n",
    "        pairs_per_class=1000,\n",
    "        img_dir=img_dir,\n",
    "        transform=get_transform()\n",
    "    )\n",
    "\n",
    "train_dataloader = DataLoader(ds,\n",
    "        batch_size=batch_size,\n",
    "        shuffle=False,\n",
    "        num_workers=8, \n",
    "        pin_memory=True,\n",
    "        collate_fn=collate_fn\n",
    "    )\n"
   ]
  },
  {
   "cell_type": "code",
   "execution_count": null,
   "metadata": {},
   "outputs": [],
   "source": [
    "model = AttEmbeddingModel(beta=1.0, alpha=1e-3)\n",
    "model.load_state_dict(torch.load(\"lightning_logs/version_7/checkpoints/epoch=1-step=250.ckpt\")[\"state_dict\"])\n",
    "model.eval()\n",
    "\n",
    "n_batches = 10\n",
    "i_batch = 0\n",
    "im_to_att = defaultdict(lambda: [])\n",
    "\n",
    "with torch.no_grad():\n",
    "    for i_batch, ((im1, im2), cls_idx) in tqdm(enumerate(train_dataloader), total=n_batches):\n",
    "        i_start = batch_size * i_batch\n",
    "        i_end = i_start + len(im1)\n",
    "\n",
    "        pair_paths = ds.pairs[i_start:i_end]\n",
    "\n",
    "        sim_emb, dis_emb, sim_att, dis_att = model(im1.cuda(), im2.cuda(), return_att=True)\n",
    "        f1_emb, f2_emb = sim_emb\n",
    "        f1_dis_emb, f2_dis_emb = dis_emb\n",
    "        sim_f1, sim_f2 = sim_att\n",
    "        dis_f1, dis_f2 = dis_att\n",
    "\n",
    "        for i_ex in range(batch_size):\n",
    "            im_to_att[pair_paths[i_ex][0][0]].append(sim_f1[i_ex].cpu().detach().numpy())\n",
    "            im_to_att[pair_paths[i_ex][0][1]].append(sim_f2[i_ex].cpu().detach().numpy())\n",
    "\n",
    "        i_batch += 1\n",
    "        if i_batch == n_batches:\n",
    "            break\n",
    "\n",
    "# %%"
   ]
  },
  {
   "cell_type": "code",
   "execution_count": null,
   "metadata": {},
   "outputs": [],
   "source": [
    "from PIL import Image\n",
    "import os\n",
    "import numpy as np\n",
    "import matplotlib.pyplot as plt\n",
    "\n",
    "def show_img(fn):\n",
    "    img = Image.open(os.path.join(img_dir, fn))\n",
    "    plt.imshow(np.asarray(img))"
   ]
  },
  {
   "cell_type": "code",
   "execution_count": null,
   "metadata": {},
   "outputs": [],
   "source": [
    "fn = list(im_to_att.keys())[1]\n",
    "print(fn)\n",
    "show_img(fn)"
   ]
  },
  {
   "cell_type": "code",
   "execution_count": null,
   "metadata": {},
   "outputs": [],
   "source": [
    "import seaborn as sns\n",
    "sns.heatmap(im_to_att[fn][0])"
   ]
  },
  {
   "cell_type": "code",
   "execution_count": null,
   "metadata": {},
   "outputs": [],
   "source": [
    "sns.heatmap(im_to_att[fn][1])"
   ]
  },
  {
   "cell_type": "code",
   "execution_count": null,
   "metadata": {},
   "outputs": [],
   "source": []
  }
 ],
 "metadata": {
  "kernelspec": {
   "display_name": "adversarial",
   "language": "python",
   "name": "python3"
  },
  "language_info": {
   "codemirror_mode": {
    "name": "ipython",
    "version": 3
   },
   "file_extension": ".py",
   "mimetype": "text/x-python",
   "name": "python",
   "nbconvert_exporter": "python",
   "pygments_lexer": "ipython3",
   "version": "3.9.0"
  },
  "orig_nbformat": 4,
  "vscode": {
   "interpreter": {
    "hash": "098337073656d21571197f52bf05c1cf0235fc0f178a59b674b34ec92cd6a1a0"
   }
  }
 },
 "nbformat": 4,
 "nbformat_minor": 2
}
